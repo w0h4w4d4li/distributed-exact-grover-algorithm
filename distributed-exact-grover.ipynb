{
 "cells": [
  {
   "cell_type": "code",
   "execution_count": 4,
   "id": "0c51309d-e12e-490a-b4ca-17f7745cd937",
   "metadata": {},
   "outputs": [],
   "source": [
    "import numpy as np\n",
    "import pennylane as q\n",
    "import multiprocessing as mp\n",
    "import matplotlib.pyplot as plt\n",
    "from originalgrover import original_grover_iter\n",
    "from exactgrover import modified_grover_iter"
   ]
  },
  {
   "cell_type": "code",
   "execution_count": 2,
   "id": "170d0b0a-37b1-4aab-801d-20c6b682107c",
   "metadata": {},
   "outputs": [],
   "source": [
    "def run_grover(grover_type, combo):\n",
    "    if grover_type == \"o\":\n",
    "        return original_grover_iter(combo)\n",
    "    elif grover_type == \"m\":\n",
    "        return modified_grover_iter(combo)\n",
    "\n",
    "target_combo='010011'\n",
    "args=[]\n",
    "\n",
    "if len(target_combo)%2:\n",
    "    original_count=(len(target_combo)-3)//2\n",
    "    for i in range(original_count):\n",
    "        args.append(('o', [int(target_combo[i*2]), int(target_combo[2*i+1])]))\n",
    "    args.append(('m', [int(target_combo[-3]), int(target_combo[-2]), int(target_combo[-1])]))\n",
    "            \n",
    "else:\n",
    "    original_count=(len(target_combo))//2\n",
    "    for i in range(original_count):\n",
    "        args.append(('o', [int(target_combo[i*2]), int(target_combo[2*i+1])]))\n",
    "\n",
    "with mp.Pool(len(args)) as pool:\n",
    "    results = pool.starmap(run_grover, args)"
   ]
  },
  {
   "cell_type": "code",
   "execution_count": 5,
   "id": "b18ad6f7-5194-402f-91bc-7773f6edd0a4",
   "metadata": {},
   "outputs": [],
   "source": [
    "def get_plot(combo, values):\n",
    "    n=len(combo)\n",
    "    categories = np.vectorize(lambda x: np.binary_repr(x, width=n))(np.arange(2**n)).tolist()\n",
    "    plt.bar(categories, values, color='skyblue')\n",
    "    plt.xticks(rotation=90)\n",
    "    plt.title(f'{len(combo)}-qubit, target={combo}')\n",
    "    plt.ylabel('Probability')\n",
    "    plt.show()"
   ]
  }
 ],
 "metadata": {
  "kernelspec": {
   "display_name": "Python 3 (ipykernel)",
   "language": "python",
   "name": "python3"
  },
  "language_info": {
   "codemirror_mode": {
    "name": "ipython",
    "version": 3
   },
   "file_extension": ".py",
   "mimetype": "text/x-python",
   "name": "python",
   "nbconvert_exporter": "python",
   "pygments_lexer": "ipython3",
   "version": "3.12.3"
  }
 },
 "nbformat": 4,
 "nbformat_minor": 5
}
