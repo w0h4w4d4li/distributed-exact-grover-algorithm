{
 "cells": [
  {
   "cell_type": "code",
   "execution_count": 5,
   "id": "3325c859-cbd8-4faf-ad3f-33c9ef4ddb98",
   "metadata": {},
   "outputs": [],
   "source": [
    "import numpy as np\n",
    "import pennylane as q"
   ]
  },
  {
   "cell_type": "code",
   "execution_count": 24,
   "id": "efaaff95-f089-45c9-94d7-bcd7388a2f71",
   "metadata": {},
   "outputs": [],
   "source": [
    "def oracle(combo, phi, p):\n",
    "    n_bits=len(combo)\n",
    "    for i, bit in enumerate(combo):\n",
    "        if bit == 0:\n",
    "            q.PauliX(wires=i)\n",
    "            q.DepolarizingChannel(p, wires=i)\n",
    "    q.ctrl(q.PhaseShift, control=list(range(n_bits-1)))(phi, wires=[n_bits-1])\n",
    "    for i in range(n_bits):\n",
    "        q.DepolarizingChannel(p, wires=i)\n",
    "    for i, bit in enumerate(combo):\n",
    "        if bit == 0:\n",
    "            q.PauliX(wires=i)\n",
    "            q.DepolarizingChannel(p, wires=i)\n",
    "\n",
    "def hadamard_transform(all_wires, p):\n",
    "    for wire in all_wires:\n",
    "        q.Hadamard(wires=wire)\n",
    "        q.DepolarizingChannel(p, wires=wire)\n",
    "\n",
    "def diffusion(n_bits, all_wires, phi, p):\n",
    "    hadamard_transform(all_wires, p)\n",
    "    for i in range(n_bits):\n",
    "        q.PauliX(wires=i)\n",
    "        q.DepolarizingChannel(p, wires=i)\n",
    "    q.ctrl(q.PhaseShift, control=list(range(n_bits-1)))(phi, wires=[n_bits-1])\n",
    "    for i in range(n_bits):\n",
    "        q.DepolarizingChannel(p, wires=i)\n",
    "    for i in range(n_bits):\n",
    "        q.PauliX(wires=i)\n",
    "        q.DepolarizingChannel(p, wires=i)\n",
    "    hadamard_transform(all_wires, p)\n",
    "\n",
    "def modified_grover_iter(combo, p):\n",
    "    n_bits = len(combo)\n",
    "    \n",
    "    theta=np.arcsin(np.sqrt(1/(2**n_bits)))\n",
    "    J=np.floor((np.pi/2-theta)/(2*theta))\n",
    "    phi=np.round(2*np.arcsin(np.sin(np.pi/(4*J+6))/np.sin(theta)), 5)\n",
    "    \n",
    "    all_wires = list(range(n_bits))\n",
    "    dev = q.device(\"default.mixed\", wires=n_bits, shots=1000, seed=42)\n",
    "\n",
    "    @q.qnode(dev)\n",
    "    def inner_circuit():\n",
    "        hadamard_transform(all_wires, p)\n",
    "        for _ in range(J.astype(int)+1):\n",
    "            oracle(combo, phi, p)\n",
    "            diffusion(n_bits, all_wires, phi, p)\n",
    "        return q.probs(wires=all_wires)\n",
    "\n",
    "    return inner_circuit()"
   ]
  },
  {
   "cell_type": "code",
   "execution_count": 28,
   "id": "2528da3b-73b8-4d37-b888-2815d10ace42",
   "metadata": {},
   "outputs": [
    {
     "data": {
      "text/plain": [
       "array([0.07 , 0.291, 0.03 , 0.075, 0.045, 0.069, 0.039, 0.041, 0.039,\n",
       "       0.075, 0.042, 0.045, 0.03 , 0.046, 0.03 , 0.033])"
      ]
     },
     "execution_count": 28,
     "metadata": {},
     "output_type": "execute_result"
    }
   ],
   "source": [
    "combo=[0,0,0,1]\n",
    "p=0.02\n",
    "modified_grover_iter(combo, p)"
   ]
  },
  {
   "cell_type": "code",
   "execution_count": null,
   "id": "87e6d339-3019-4563-a44a-9d5b80793638",
   "metadata": {},
   "outputs": [],
   "source": []
  }
 ],
 "metadata": {
  "kernelspec": {
   "display_name": "Python 3 (ipykernel)",
   "language": "python",
   "name": "python3"
  },
  "language_info": {
   "codemirror_mode": {
    "name": "ipython",
    "version": 3
   },
   "file_extension": ".py",
   "mimetype": "text/x-python",
   "name": "python",
   "nbconvert_exporter": "python",
   "pygments_lexer": "ipython3",
   "version": "3.12.3"
  }
 },
 "nbformat": 4,
 "nbformat_minor": 5
}
