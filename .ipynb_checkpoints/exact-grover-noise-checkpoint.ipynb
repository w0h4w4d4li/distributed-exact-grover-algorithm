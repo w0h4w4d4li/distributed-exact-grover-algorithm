{
 "cells": [
  {
   "cell_type": "code",
   "execution_count": 67,
   "id": "3325c859-cbd8-4faf-ad3f-33c9ef4ddb98",
   "metadata": {},
   "outputs": [],
   "source": [
    "import numpy as np\n",
    "import pennylane as q"
   ]
  },
  {
   "cell_type": "code",
   "execution_count": 68,
   "id": "efaaff95-f089-45c9-94d7-bcd7388a2f71",
   "metadata": {},
   "outputs": [],
   "source": [
    "def oracle(combo, phi, p, wires):\n",
    "    n_bits=len(combo)\n",
    "    for i, bit in enumerate(combo):\n",
    "        if bit == 0:\n",
    "            q.PauliX(wires=wires[0]+i)\n",
    "            q.DepolarizingChannel(p, wires=wires[0]+i)\n",
    "    q.ctrl(q.PhaseShift, control=wires[:-1])(phi, wires=[wires[-1]])\n",
    "    for wire in wires:\n",
    "        q.DepolarizingChannel(p, wires=wire)\n",
    "    for i, bit in enumerate(combo):\n",
    "        if bit == 0:\n",
    "            q.PauliX(wires=wires[0]+i)\n",
    "            q.DepolarizingChannel(p, wires=wires[0]+i)\n",
    "\n",
    "def hadamard_transform(p, wires):\n",
    "    for wire in wires:\n",
    "        q.Hadamard(wires=wire)\n",
    "        q.DepolarizingChannel(p, wires=wire)\n",
    "\n",
    "def diffusion(n_bits, phi, p, wires):\n",
    "    hadamard_transform(p, wires)\n",
    "    for wire in wires:\n",
    "        q.PauliX(wires=wire)\n",
    "        q.DepolarizingChannel(p, wires=wire)\n",
    "    q.ctrl(q.PhaseShift, control=wires[:-1])(phi, wires=[wires[-1]])\n",
    "    for wire in wires:\n",
    "        q.DepolarizingChannel(p, wires=wire)\n",
    "    for wire in wires:\n",
    "        q.PauliX(wires=wire)\n",
    "        q.DepolarizingChannel(p, wires=wire)\n",
    "    hadamard_transform(p, wires)\n",
    "\n",
    "def modified_grover_iter(combo, p, wires):\n",
    "    n_bits = len(combo)\n",
    "    theta=np.arcsin(np.sqrt(1/(2**n_bits)))\n",
    "    J=np.floor((np.pi/2-theta)/(2*theta))\n",
    "    phi=np.round(2*np.arcsin(np.sin(np.pi/(4*J+6))/np.sin(theta)), 4)\n",
    "    \n",
    "    hadamard_transform(p, wires)\n",
    "    for _ in range(J.astype(int)+1):\n",
    "        oracle(combo, phi, p, wires)\n",
    "        diffusion(n_bits, phi, p, wires)"
   ]
  }
 ],
 "metadata": {
  "kernelspec": {
   "display_name": "Python 3 (ipykernel)",
   "language": "python",
   "name": "python3"
  },
  "language_info": {
   "codemirror_mode": {
    "name": "ipython",
    "version": 3
   },
   "file_extension": ".py",
   "mimetype": "text/x-python",
   "name": "python",
   "nbconvert_exporter": "python",
   "pygments_lexer": "ipython3",
   "version": "3.12.3"
  }
 },
 "nbformat": 4,
 "nbformat_minor": 5
}
