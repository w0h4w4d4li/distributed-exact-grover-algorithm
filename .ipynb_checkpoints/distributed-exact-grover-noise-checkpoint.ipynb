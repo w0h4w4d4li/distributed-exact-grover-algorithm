{
 "cells": [
  {
   "cell_type": "code",
   "execution_count": 36,
   "id": "0c51309d-e12e-490a-b4ca-17f7745cd937",
   "metadata": {},
   "outputs": [],
   "source": [
    "import numpy as np\n",
    "import pennylane as q\n",
    "import multiprocessing as mp\n",
    "import matplotlib.pyplot as plt\n",
    "from original_grover_noise import original_grover_iter\n",
    "from exact_grover_noise import modified_grover_iter"
   ]
  },
  {
   "cell_type": "code",
   "execution_count": 37,
   "id": "170d0b0a-37b1-4aab-801d-20c6b682107c",
   "metadata": {},
   "outputs": [],
   "source": [
    "def DEGA(target_combo, p):\n",
    "    n_bits = len(target_combo)\n",
    "    all_wires = list(range(n_bits))\n",
    "    dev = q.device(\"default.mixed\", wires=n_bits, shots=1000, seed=42)\n",
    "\n",
    "    @q.qnode(dev)\n",
    "    def inner_circuit():\n",
    "        if len(target_combo)%2:\n",
    "            for i in range((len(target_combo)-3)//2):\n",
    "                original_grover_iter([int(target_combo[i*2]), int(target_combo[2*i+1])], p, list(range(2*i,2*i+2)))\n",
    "            modified_grover_iter([int(target_combo[-3]), int(target_combo[-2]), int(target_combo[-1])], p, list(range(2*i,2*i+3)))\n",
    "        else:\n",
    "            for i in range(len(target_combo)//2):\n",
    "                original_grover_iter([int(target_combo[i*2]), int(target_combo[2*i+1])], p, list(range(2*i,2*i+2)))\n",
    "    \n",
    "        return q.probs(wires=all_wires)\n",
    "    return inner_circuit()\n",
    "\n",
    "def get_plot(combo, values):\n",
    "    n=len(combo)\n",
    "    categories = np.vectorize(lambda x: np.binary_repr(x, width=n))(np.arange(2**n)).tolist()\n",
    "    plt.bar(categories, values, color='skyblue')\n",
    "    plt.xticks(rotation=90)\n",
    "    plt.title(f'{len(combo)}-qubit, target={combo}')\n",
    "    plt.ylabel('Probability')\n",
    "    plt.show()"
   ]
  },
  {
   "cell_type": "code",
   "execution_count": 40,
   "id": "b18ad6f7-5194-402f-91bc-7773f6edd0a4",
   "metadata": {},
   "outputs": [
    {
     "data": {
      "text/plain": [
       "array([0.443, 0.087, 0.085, 0.049, 0.079, 0.015, 0.029, 0.008, 0.088,\n",
       "       0.018, 0.013, 0.012, 0.047, 0.009, 0.012, 0.006])"
      ]
     },
     "execution_count": 40,
     "metadata": {},
     "output_type": "execute_result"
    }
   ],
   "source": [
    "# get_plot('11', DEGA([0,0,1,1], 0.03)[1])\n",
    "DEGA([0,0,0,0], 0.03)"
   ]
  }
 ],
 "metadata": {
  "kernelspec": {
   "display_name": "Python 3 (ipykernel)",
   "language": "python",
   "name": "python3"
  },
  "language_info": {
   "codemirror_mode": {
    "name": "ipython",
    "version": 3
   },
   "file_extension": ".py",
   "mimetype": "text/x-python",
   "name": "python",
   "nbconvert_exporter": "python",
   "pygments_lexer": "ipython3",
   "version": "3.12.3"
  }
 },
 "nbformat": 4,
 "nbformat_minor": 5
}
