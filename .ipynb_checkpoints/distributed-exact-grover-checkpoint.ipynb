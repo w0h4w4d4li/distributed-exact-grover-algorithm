{
 "cells": [
  {
   "cell_type": "code",
   "execution_count": 4,
   "id": "0c51309d-e12e-490a-b4ca-17f7745cd937",
   "metadata": {},
   "outputs": [],
   "source": [
    "import numpy as np\n",
    "import pennylane as q\n",
    "import multiprocessing as mp\n",
    "import matplotlib.pyplot as plt\n",
    "from originalgrover import original_grover_iter\n",
    "from exactgrover import modified_grover_iter"
   ]
  },
  {
   "cell_type": "code",
   "execution_count": 36,
   "id": "170d0b0a-37b1-4aab-801d-20c6b682107c",
   "metadata": {},
   "outputs": [],
   "source": [
    "def run_grover(grover_type, combo):\n",
    "    if grover_type == \"o\":\n",
    "        return original_grover_iter(combo)\n",
    "    elif grover_type == \"m\":\n",
    "        return modified_grover_iter(combo)\n",
    "\n",
    "\n",
    "def DEGA(target_combo):\n",
    "    args=[]    \n",
    "    if len(target_combo)%2:\n",
    "        original_count=(len(target_combo)-3)//2\n",
    "        for i in range(original_count):\n",
    "            args.append(('o', [int(target_combo[i*2]), int(target_combo[2*i+1])]))\n",
    "        args.append(('m', [int(target_combo[-3]), int(target_combo[-2]), int(target_combo[-1])]))       \n",
    "    else:\n",
    "        original_count=(len(target_combo))//2\n",
    "        for i in range(original_count):\n",
    "            args.append(('o', [int(target_combo[i*2]), int(target_combo[2*i+1])]))\n",
    "    \n",
    "    with mp.Pool(len(args)) as pool:\n",
    "        results = pool.starmap(run_grover, args)\n",
    "        \n",
    "    return results\n",
    "\n",
    "def get_plot(combo, values):\n",
    "    n=len(combo)\n",
    "    categories = np.vectorize(lambda x: np.binary_repr(x, width=n))(np.arange(2**n)).tolist()\n",
    "    plt.bar(categories, values, color='skyblue')\n",
    "    plt.xticks(rotation=90)\n",
    "    plt.title(f'{len(combo)}-qubit, target={combo}')\n",
    "    plt.ylabel('Probability')\n",
    "    plt.show()"
   ]
  },
  {
   "cell_type": "code",
   "execution_count": 38,
   "id": "b18ad6f7-5194-402f-91bc-7773f6edd0a4",
   "metadata": {},
   "outputs": [
    {
     "data": {
      "image/png": "[encoded data removed]",
      "text/plain": [
       "<Figure size 640x480 with 1 Axes>"
      ]
     },
     "metadata": {},
     "output_type": "display_data"
    }
   ],
   "source": [
    "get_plot('11', DEGA([0,0,1,1])[1])"
   ]
  }
 ],
 "metadata": {
  "kernelspec": {
   "display_name": "Python 3 (ipykernel)",
   "language": "python",
   "name": "python3"
  },
  "language_info": {
   "codemirror_mode": {
    "name": "ipython",
    "version": 3
   },
   "file_extension": ".py",
   "mimetype": "text/x-python",
   "name": "python",
   "nbconvert_exporter": "python",
   "pygments_lexer": "ipython3",
   "version": "3.12.3"
  }
 },
 "nbformat": 4,
 "nbformat_minor": 5
}
