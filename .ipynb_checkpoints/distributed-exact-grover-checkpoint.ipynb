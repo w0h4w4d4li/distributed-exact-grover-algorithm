{
 "cells": [
  {
   "cell_type": "code",
   "execution_count": 9,
   "id": "e636ccc8-ba6c-4013-b0d5-53255de1e0b4",
   "metadata": {},
   "outputs": [],
   "source": [
    "import numpy as np\n",
    "import pennylane as q\n",
    "from originalgrover import original_grover_iter\n",
    "from exactgrover import modified_grover_iter"
   ]
  },
  {
   "cell_type": "code",
   "execution_count": 25,
   "id": "1bd55615-2638-4ef2-8529-c05ed62e7adf",
   "metadata": {},
   "outputs": [
    {
     "data": {
      "text/plain": [
       "array([0., 1., 0., 0., 0., 0., 0., 0.])"
      ]
     },
     "execution_count": 25,
     "metadata": {},
     "output_type": "execute_result"
    }
   ],
   "source": [
    "# target 01001\n",
    "combo_1=[0,1]\n",
    "original_grover_iter(combo_1, np.floor((np.pi/4)*(np.sqrt(2**len(combo_1)))).astype(int))\n",
    "\n",
    "combo_2=[0,0,1]\n",
    "theta=np.arcsin(np.sqrt(1/(2**len(combo_2))))\n",
    "J=np.floor((np.pi/2-theta)/(2*theta))\n",
    "modified_grover_iter(combo_2, J.astype(int)+1)"
   ]
  },
  {
   "cell_type": "code",
   "execution_count": null,
   "id": "d441d756-2e2c-4a02-8b00-2e1166878e53",
   "metadata": {},
   "outputs": [],
   "source": []
  }
 ],
 "metadata": {
  "kernelspec": {
   "display_name": "Python 3 (ipykernel)",
   "language": "python",
   "name": "python3"
  },
  "language_info": {
   "codemirror_mode": {
    "name": "ipython",
    "version": 3
   },
   "file_extension": ".py",
   "mimetype": "text/x-python",
   "name": "python",
   "nbconvert_exporter": "python",
   "pygments_lexer": "ipython3",
   "version": "3.12.3"
  }
 },
 "nbformat": 4,
 "nbformat_minor": 5
}
