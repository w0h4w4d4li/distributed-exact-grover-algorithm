{
 "cells": [
  {
   "cell_type": "code",
   "execution_count": 9,
   "id": "e636ccc8-ba6c-4013-b0d5-53255de1e0b4",
   "metadata": {},
   "outputs": [],
   "source": [
    "import numpy as np\n",
    "import pennylane as q\n",
    "from originalgrover import original_grover_iter\n",
    "from exactgrover import modified_grover_iter"
   ]
  },
  {
   "cell_type": "code",
   "execution_count": 89,
   "id": "1bd55615-2638-4ef2-8529-c05ed62e7adf",
   "metadata": {},
   "outputs": [
    {
     "data": {
      "text/plain": [
       "[0.0, 1.0, 0.0, 0.0, 0.0, 0.0, 0.0, 0.0]"
      ]
     },
     "execution_count": 89,
     "metadata": {},
     "output_type": "execute_result"
    }
   ],
   "source": [
    "def run_original(grover_input):\n",
    "    return original_grover_iter(grover_input)\n",
    "\n",
    "def run_modified(grover_input):\n",
    "    return modified_grover_iter(grover_input)\n",
    "    \n",
    "target_combo='01001'\n",
    "res=[]\n",
    "if len(target_combo)%2:\n",
    "    original_count=(len(target_combo)-3)//2\n",
    "    for _ in range(original_count):\n",
    "        res.append(original_grover_iter(combo_1, np.floor((np.pi/4)*(np.sqrt(2**len(combo_1)))).astype(int)))\n",
    "else:\n",
    "    ...\n",
    "\n",
    "\n",
    "combo_2=[0,0,1]\n",
    "theta=np.arcsin(np.sqrt(1/(2**len(combo_2))))\n",
    "J=np.floor((np.pi/2-theta)/(2*theta))\n",
    "modified_grover_iter(combo_2, J.astype(int)+1).tolist()"
   ]
  },
  {
   "cell_type": "code",
   "execution_count": 90,
   "id": "d441d756-2e2c-4a02-8b00-2e1166878e53",
   "metadata": {},
   "outputs": [],
   "source": [
    "import matplotlib.pyplot as plt\n",
    "\n",
    "def get_plot(combo, values):\n",
    "    n=len(combo)\n",
    "    categories = np.vectorize(lambda x: np.binary_repr(x, width=n))(np.arange(2**n)).tolist()\n",
    "    # values = original_grover_iter(combo, np.floor((np.pi/4)*(np.sqrt(2**len(combo)))).astype(int))\n",
    "    plt.bar(categories, values, color='skyblue')\n",
    "    plt.xticks(rotation=90)\n",
    "    plt.title('5-qubit, target=01001')\n",
    "    plt.ylabel('Probability')\n",
    "    plt.show()"
   ]
  },
  {
   "cell_type": "code",
   "execution_count": null,
   "id": "c025cfc4-4350-4ea8-ba5f-72cb073969c9",
   "metadata": {},
   "outputs": [],
   "source": []
  }
 ],
 "metadata": {
  "kernelspec": {
   "display_name": "Python 3 (ipykernel)",
   "language": "python",
   "name": "python3"
  },
  "language_info": {
   "codemirror_mode": {
    "name": "ipython",
    "version": 3
   },
   "file_extension": ".py",
   "mimetype": "text/x-python",
   "name": "python",
   "nbconvert_exporter": "python",
   "pygments_lexer": "ipython3",
   "version": "3.12.3"
  }
 },
 "nbformat": 4,
 "nbformat_minor": 5
}
