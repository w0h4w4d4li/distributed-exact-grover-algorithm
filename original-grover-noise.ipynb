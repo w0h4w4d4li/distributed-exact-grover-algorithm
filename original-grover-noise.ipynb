{
 "cells": [
  {
   "cell_type": "code",
   "execution_count": 71,
   "id": "3325c859-cbd8-4faf-ad3f-33c9ef4ddb98",
   "metadata": {},
   "outputs": [],
   "source": [
    "import numpy as np\n",
    "import pennylane as q"
   ]
  },
  {
   "cell_type": "code",
   "execution_count": 72,
   "id": "efaaff95-f089-45c9-94d7-bcd7388a2f71",
   "metadata": {},
   "outputs": [],
   "source": [
    "def oracle(combo, p, wires):\n",
    "    n_bits=len(combo)\n",
    "    for i, bit in enumerate(combo):\n",
    "        if bit == 0:\n",
    "            q.PauliX(wires=wires[0]+i)\n",
    "            q.DepolarizingChannel(p, wires=wires[0]+i)\n",
    "    q.ctrl(q.PauliZ, control=wires[:-1])(wires=[wires[-1]])\n",
    "    for wire in wires:\n",
    "        q.DepolarizingChannel(p, wires=wire)\n",
    "    for i, bit in enumerate(combo):\n",
    "        if bit == 0:\n",
    "            q.PauliX(wires=wires[0]+i)\n",
    "            q.DepolarizingChannel(p, wires=wires[0]+i)\n",
    "\n",
    "def hadamard_transform(p, wires):\n",
    "    for wire in wires:\n",
    "        q.Hadamard(wires=wire)\n",
    "        q.DepolarizingChannel(p, wires=wire)\n",
    "\n",
    "def diffusion(n_bits, p, wires):\n",
    "    hadamard_transform(p, wires)\n",
    "    for wire in wires:\n",
    "        q.PauliX(wires=wire)\n",
    "        q.DepolarizingChannel(p, wires=wire)\n",
    "    q.ctrl(q.PauliZ, control=wires[:-1])(wires=[wires[-1]])\n",
    "    for wire in wires:\n",
    "        q.DepolarizingChannel(p, wires=wire)\n",
    "    for wire in wires:\n",
    "        q.PauliX(wires=wire)\n",
    "        q.DepolarizingChannel(p, wires=wire)\n",
    "    hadamard_transform(p, wires)\n",
    "\n",
    "def original_grover_iter(combo, p, wires):\n",
    "    n_bits = len(combo)\n",
    "    G_steps=np.floor((np.pi/4)*(np.sqrt(2**len(combo)))).astype(int)\n",
    "\n",
    "    hadamard_transform(p, wires)\n",
    "    for _ in range(G_steps):\n",
    "        oracle(combo, p, wires)\n",
    "        diffusion(n_bits, p, wires)"
   ]
  }
 ],
 "metadata": {
  "kernelspec": {
   "display_name": "Python 3 (ipykernel)",
   "language": "python",
   "name": "python3"
  },
  "language_info": {
   "codemirror_mode": {
    "name": "ipython",
    "version": 3
   },
   "file_extension": ".py",
   "mimetype": "text/x-python",
   "name": "python",
   "nbconvert_exporter": "python",
   "pygments_lexer": "ipython3",
   "version": "3.12.3"
  }
 },
 "nbformat": 4,
 "nbformat_minor": 5
}
