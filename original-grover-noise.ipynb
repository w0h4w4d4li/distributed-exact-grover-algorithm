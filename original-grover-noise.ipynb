{
 "cells": [
  {
   "cell_type": "code",
   "execution_count": 4,
   "id": "3325c859-cbd8-4faf-ad3f-33c9ef4ddb98",
   "metadata": {},
   "outputs": [],
   "source": [
    "import numpy as np\n",
    "import pennylane as q"
   ]
  },
  {
   "cell_type": "code",
   "execution_count": 35,
   "id": "efaaff95-f089-45c9-94d7-bcd7388a2f71",
   "metadata": {},
   "outputs": [],
   "source": [
    "def oracle(combo, p):\n",
    "    n_bits=len(combo)\n",
    "    for i, bit in enumerate(combo):\n",
    "        if bit == 0:\n",
    "            q.PauliX(wires=i)\n",
    "            q.DepolarizingChannel(p, wires=i)\n",
    "    q.ctrl(q.PauliZ, control=list(range(n_bits-1)))(wires=[n_bits-1])\n",
    "    for i in range(n_bits):\n",
    "        q.DepolarizingChannel(p, wires=i)\n",
    "    for i, bit in enumerate(combo):\n",
    "        if bit == 0:\n",
    "            q.PauliX(wires=i)\n",
    "            q.DepolarizingChannel(p, wires=i)\n",
    "\n",
    "def hadamard_transform(all_wires, p):\n",
    "    for wire in all_wires:\n",
    "        q.Hadamard(wires=wire)\n",
    "        q.DepolarizingChannel(p, wires=wire)\n",
    "\n",
    "def diffusion(n_bits, all_wires, p):\n",
    "    hadamard_transform(all_wires, p)\n",
    "    for i in range(n_bits):\n",
    "        q.PauliX(wires=i)\n",
    "        q.DepolarizingChannel(p, wires=i)\n",
    "    q.ctrl(q.PauliZ, control=list(range(n_bits-1)))(wires=[n_bits-1])\n",
    "    for i in range(n_bits):\n",
    "        q.DepolarizingChannel(p, wires=i)\n",
    "    for i in range(n_bits):\n",
    "        q.PauliX(wires=i)\n",
    "        q.DepolarizingChannel(p, wires=i)\n",
    "    hadamard_transform(all_wires, p)\n",
    "\n",
    "def original_grover_iter(combo, p):\n",
    "    n_bits = len(combo)\n",
    "    G_steps=np.floor((np.pi/4)*(np.sqrt(2**len(combo)))).astype(int)\n",
    "    all_wires = list(range(n_bits))\n",
    "    dev = q.device(\"default.mixed\", wires=n_bits, shots=1000, seed=42)\n",
    "\n",
    "    @q.qnode(dev)\n",
    "    def inner_circuit():\n",
    "        hadamard_transform(all_wires, p)\n",
    "        for _ in range(G_steps):\n",
    "            oracle(combo, p)\n",
    "            diffusion(n_bits, all_wires, p)\n",
    "        return q.probs(wires=all_wires)\n",
    "\n",
    "    return inner_circuit()"
   ]
  },
  {
   "cell_type": "code",
   "execution_count": 36,
   "id": "74b454da-ec6d-496c-9498-011e10ad0ed0",
   "metadata": {},
   "outputs": [
    {
     "data": {
      "text/plain": [
       "array([0.067, 0.069, 0.074, 0.059, 0.065, 0.052, 0.059, 0.064, 0.056,\n",
       "       0.064, 0.059, 0.058, 0.073, 0.061, 0.064, 0.056])"
      ]
     },
     "execution_count": 36,
     "metadata": {},
     "output_type": "execute_result"
    }
   ],
   "source": [
    "combo=[0,0,0,0]\n",
    "original_grover_iter(combo, 0.09)"
   ]
  }
 ],
 "metadata": {
  "kernelspec": {
   "display_name": "Python 3 (ipykernel)",
   "language": "python",
   "name": "python3"
  },
  "language_info": {
   "codemirror_mode": {
    "name": "ipython",
    "version": 3
   },
   "file_extension": ".py",
   "mimetype": "text/x-python",
   "name": "python",
   "nbconvert_exporter": "python",
   "pygments_lexer": "ipython3",
   "version": "3.12.3"
  }
 },
 "nbformat": 4,
 "nbformat_minor": 5
}
