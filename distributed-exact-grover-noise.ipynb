{
 "cells": [
  {
   "cell_type": "code",
   "execution_count": 1,
   "id": "0c51309d-e12e-490a-b4ca-17f7745cd937",
   "metadata": {},
   "outputs": [],
   "source": [
    "import numpy as np\n",
    "import pennylane as q\n",
    "import multiprocessing as mp\n",
    "import matplotlib.pyplot as plt\n",
    "from originalgrovernoise import original_grover_iter\n",
    "from exactgrovernoise import modified_grover_iter"
   ]
  },
  {
   "cell_type": "code",
   "execution_count": 11,
   "id": "170d0b0a-37b1-4aab-801d-20c6b682107c",
   "metadata": {},
   "outputs": [],
   "source": [
    "def run_grover(grover_type, combo, p):\n",
    "    if grover_type == \"o\":\n",
    "        return original_grover_iter(combo, p)\n",
    "    elif grover_type == \"m\":\n",
    "        return modified_grover_iter(combo, p)\n",
    "\n",
    "\n",
    "def DEGA(target_combo, p):\n",
    "    n_bits = len(combo)\n",
    "    all_wires = list(range(n_bits))\n",
    "    # num_steps for original Grover\n",
    "    G_steps=np.floor((np.pi/4)*(np.sqrt(2**len(combo)))).astype(int)\n",
    "    # num_steps for modified Grover\n",
    "    theta=np.arcsin(np.sqrt(1/(2**n_bits)))\n",
    "    J=np.floor((np.pi/2-theta)/(2*theta))\n",
    "    phi=np.round(2*np.arcsin(np.sin(np.pi/(4*J+6))/np.sin(theta)), 5)\n",
    "    \n",
    "    dev = q.device(\"default.mixed\", wires=n_bits, shots=1000, seed=42)\n",
    "    \n",
    "    args=[]    \n",
    "    if len(target_combo)%2:\n",
    "        original_count=(len(target_combo)-3)//2\n",
    "        for i in range(original_count):\n",
    "            args.append(('o', [int(target_combo[i*2]), int(target_combo[2*i+1])], p))\n",
    "        args.append(('m', [int(target_combo[-3]), int(target_combo[-2]), int(target_combo[-1])], p))       \n",
    "    else:\n",
    "        original_count=(len(target_combo))//2\n",
    "        for i in range(original_count):\n",
    "            args.append(('o', [int(target_combo[i*2]), int(target_combo[2*i+1])], p))\n",
    "\n",
    "\n",
    "def get_plot(combo, values):\n",
    "    n=len(combo)\n",
    "    categories = np.vectorize(lambda x: np.binary_repr(x, width=n))(np.arange(2**n)).tolist()\n",
    "    plt.bar(categories, values, color='skyblue')\n",
    "    plt.xticks(rotation=90)\n",
    "    plt.title(f'{len(combo)}-qubit, target={combo}')\n",
    "    plt.ylabel('Probability')\n",
    "    plt.show()"
   ]
  },
  {
   "cell_type": "code",
   "execution_count": 10,
   "id": "b18ad6f7-5194-402f-91bc-7773f6edd0a4",
   "metadata": {},
   "outputs": [],
   "source": [
    "# get_plot('11', DEGA([0,0,1,1], 0.03)[1])\n",
    "# DEGA([0,0,1,1,1], 0.03)"
   ]
  }
 ],
 "metadata": {
  "kernelspec": {
   "display_name": "Python 3 (ipykernel)",
   "language": "python",
   "name": "python3"
  },
  "language_info": {
   "codemirror_mode": {
    "name": "ipython",
    "version": 3
   },
   "file_extension": ".py",
   "mimetype": "text/x-python",
   "name": "python",
   "nbconvert_exporter": "python",
   "pygments_lexer": "ipython3",
   "version": "3.12.3"
  }
 },
 "nbformat": 4,
 "nbformat_minor": 5
}
