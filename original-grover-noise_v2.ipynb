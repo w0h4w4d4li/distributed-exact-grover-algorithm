{
 "cells": [
  {
   "cell_type": "code",
   "execution_count": 4,
   "id": "3325c859-cbd8-4faf-ad3f-33c9ef4ddb98",
   "metadata": {},
   "outputs": [],
   "source": [
    "import numpy as np\n",
    "import pennylane as q"
   ]
  },
  {
   "cell_type": "code",
   "execution_count": 5,
   "id": "efaaff95-f089-45c9-94d7-bcd7388a2f71",
   "metadata": {},
   "outputs": [],
   "source": [
    "def oracle(combo, p):\n",
    "    n_bits=len(combo)\n",
    "    for i, bit in enumerate(combo):\n",
    "        if bit == 0:\n",
    "            q.PauliX(wires=i)\n",
    "            q.DepolarizingChannel(p, wires=i)\n",
    "    q.ctrl(q.PauliZ, control=list(range(n_bits-1)))(wires=[n_bits-1])\n",
    "    for i in range(n_bits):\n",
    "        q.DepolarizingChannel(p, wires=i)\n",
    "    for i, bit in enumerate(combo):\n",
    "        if bit == 0:\n",
    "            q.PauliX(wires=i)\n",
    "            q.DepolarizingChannel(p, wires=i)\n",
    "\n",
    "def hadamard_transform(all_wires, p):\n",
    "    for wire in all_wires:\n",
    "        q.Hadamard(wires=wire)\n",
    "        q.DepolarizingChannel(p, wires=wire)\n",
    "\n",
    "def diffusion(n_bits, all_wires, p):\n",
    "    hadamard_transform(all_wires, p)\n",
    "    for i in range(n_bits):\n",
    "        q.PauliX(wires=i)\n",
    "        q.DepolarizingChannel(p, wires=i)\n",
    "    q.ctrl(q.PauliZ, control=list(range(n_bits-1)))(wires=[n_bits-1])\n",
    "    for i in range(n_bits):\n",
    "        q.DepolarizingChannel(p, wires=i)\n",
    "    for i in range(n_bits):\n",
    "        q.PauliX(wires=i)\n",
    "        q.DepolarizingChannel(p, wires=i)\n",
    "    hadamard_transform(all_wires, p)\n",
    "\n",
    "def original_grover_iter(combo, p):\n",
    "    n_bits = len(combo)\n",
    "    G_steps=np.floor((np.pi/4)*(np.sqrt(2**len(combo)))).astype(int)\n",
    "    all_wires = list(range(n_bits))\n",
    "    dev = q.device(\"default.mixed\", wires=n_bits, shots=1000, seed=42)\n",
    "\n",
    "    @q.qnode(dev)\n",
    "    def inner_circuit():\n",
    "        hadamard_transform(all_wires, p)\n",
    "        for _ in range(G_steps):\n",
    "            oracle(combo, p)\n",
    "            diffusion(n_bits, all_wires, p)\n",
    "        return q.probs(wires=all_wires)\n",
    "\n",
    "    return inner_circuit()"
   ]
  },
  {
   "cell_type": "code",
   "execution_count": 8,
   "id": "bad5ee85-31d3-4d7d-bf4b-fff549b6cd30",
   "metadata": {},
   "outputs": [
    {
     "data": {
      "text/plain": [
       "array([0.07 , 0.285, 0.032, 0.073, 0.045, 0.07 , 0.04 , 0.043, 0.034,\n",
       "       0.076, 0.047, 0.042, 0.032, 0.046, 0.032, 0.033])"
      ]
     },
     "execution_count": 8,
     "metadata": {},
     "output_type": "execute_result"
    }
   ],
   "source": [
    "combo=[0,0,0,1]\n",
    "p=0.02\n",
    "original_grover_iter(combo, p)"
   ]
  }
 ],
 "metadata": {
  "kernelspec": {
   "display_name": "Python 3 (ipykernel)",
   "language": "python",
   "name": "python3"
  },
  "language_info": {
   "codemirror_mode": {
    "name": "ipython",
    "version": 3
   },
   "file_extension": ".py",
   "mimetype": "text/x-python",
   "name": "python",
   "nbconvert_exporter": "python",
   "pygments_lexer": "ipython3",
   "version": "3.12.3"
  }
 },
 "nbformat": 4,
 "nbformat_minor": 5
}
